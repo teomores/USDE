{
 "cells": [
  {
   "cell_type": "code",
   "execution_count": 17,
   "metadata": {},
   "outputs": [],
   "source": [
    "import pandas as pd\n",
    "import os\n",
    "path = \"../scrapers/facebook/my_scraper/data/\"\n",
    "\n",
    "dfs = [f for f in os.listdir(path)]"
   ]
  },
  {
   "cell_type": "code",
   "execution_count": 28,
   "metadata": {},
   "outputs": [
    {
     "name": "stdout",
     "output_type": "stream",
     "text": [
      "manchesterunited_post_ids.csv\n"
     ]
    }
   ],
   "source": [
    "print(dfs[13])"
   ]
  },
  {
   "cell_type": "code",
   "execution_count": 31,
   "metadata": {},
   "outputs": [
    {
     "data": {
      "text/html": [
       "<div>\n",
       "<style scoped>\n",
       "    .dataframe tbody tr th:only-of-type {\n",
       "        vertical-align: middle;\n",
       "    }\n",
       "\n",
       "    .dataframe tbody tr th {\n",
       "        vertical-align: top;\n",
       "    }\n",
       "\n",
       "    .dataframe thead th {\n",
       "        text-align: right;\n",
       "    }\n",
       "</style>\n",
       "<table border=\"1\" class=\"dataframe\">\n",
       "  <thead>\n",
       "    <tr style=\"text-align: right;\">\n",
       "      <th></th>\n",
       "      <th>post_id</th>\n",
       "    </tr>\n",
       "  </thead>\n",
       "  <tbody>\n",
       "    <tr>\n",
       "      <th>0</th>\n",
       "      <td>10157567304132746</td>\n",
       "    </tr>\n",
       "    <tr>\n",
       "      <th>1</th>\n",
       "      <td>10157564414102746</td>\n",
       "    </tr>\n",
       "    <tr>\n",
       "      <th>2</th>\n",
       "      <td>10157567231442746</td>\n",
       "    </tr>\n",
       "    <tr>\n",
       "      <th>3</th>\n",
       "      <td>10157567046857746</td>\n",
       "    </tr>\n",
       "    <tr>\n",
       "      <th>4</th>\n",
       "      <td>10157566710432746</td>\n",
       "    </tr>\n",
       "  </tbody>\n",
       "</table>\n",
       "</div>"
      ],
      "text/plain": [
       "             post_id\n",
       "0  10157567304132746\n",
       "1  10157564414102746\n",
       "2  10157567231442746\n",
       "3  10157567046857746\n",
       "4  10157566710432746"
      ]
     },
     "execution_count": 31,
     "metadata": {},
     "output_type": "execute_result"
    }
   ],
   "source": [
    "df = pd.read_csv(f\"{path}{dfs[13]}\")\n",
    "df.head()"
   ]
  },
  {
   "cell_type": "code",
   "execution_count": 47,
   "metadata": {},
   "outputs": [],
   "source": [
    "sub = df.loc[[x for x in range(1140,1170)]]"
   ]
  },
  {
   "cell_type": "code",
   "execution_count": 48,
   "metadata": {},
   "outputs": [
    {
     "data": {
      "text/html": [
       "<div>\n",
       "<style scoped>\n",
       "    .dataframe tbody tr th:only-of-type {\n",
       "        vertical-align: middle;\n",
       "    }\n",
       "\n",
       "    .dataframe tbody tr th {\n",
       "        vertical-align: top;\n",
       "    }\n",
       "\n",
       "    .dataframe thead th {\n",
       "        text-align: right;\n",
       "    }\n",
       "</style>\n",
       "<table border=\"1\" class=\"dataframe\">\n",
       "  <thead>\n",
       "    <tr style=\"text-align: right;\">\n",
       "      <th></th>\n",
       "      <th>post_id</th>\n",
       "    </tr>\n",
       "  </thead>\n",
       "  <tbody>\n",
       "    <tr>\n",
       "      <th>1140</th>\n",
       "      <td>10155908892897746\",\"10155908892167746</td>\n",
       "    </tr>\n",
       "    <tr>\n",
       "      <th>1141</th>\n",
       "      <td>10155908067292746</td>\n",
       "    </tr>\n",
       "    <tr>\n",
       "      <th>1142</th>\n",
       "      <td>10155907289312746\",\"10155907286322746</td>\n",
       "    </tr>\n",
       "    <tr>\n",
       "      <th>1143</th>\n",
       "      <td>10155906059692746</td>\n",
       "    </tr>\n",
       "    <tr>\n",
       "      <th>1144</th>\n",
       "      <td>10155904912242746</td>\n",
       "    </tr>\n",
       "  </tbody>\n",
       "</table>\n",
       "</div>"
      ],
      "text/plain": [
       "                                    post_id\n",
       "1140  10155908892897746\",\"10155908892167746\n",
       "1141                      10155908067292746\n",
       "1142  10155907289312746\",\"10155907286322746\n",
       "1143                      10155906059692746\n",
       "1144                      10155904912242746"
      ]
     },
     "execution_count": 48,
     "metadata": {},
     "output_type": "execute_result"
    }
   ],
   "source": [
    "sub.head()"
   ]
  },
  {
   "cell_type": "code",
   "execution_count": 52,
   "metadata": {},
   "outputs": [
    {
     "name": "stdout",
     "output_type": "stream",
     "text": [
      "10155908892897746\n",
      "10155908892167746\n",
      "10155908067292746\n",
      "10155907289312746\n",
      "10155907286322746\n",
      "10155906059692746\n",
      "10155904912242746\n"
     ]
    }
   ],
   "source": [
    "for x in sub.head().post_id:\n",
    "    if '\",\"' in str(x):\n",
    "        print(str(x).split('\",\"')[0])\n",
    "        print(str(x).split('\",\"')[1])\n",
    "    else:\n",
    "        print(x)"
   ]
  },
  {
   "cell_type": "code",
   "execution_count": 53,
   "metadata": {},
   "outputs": [],
   "source": [
    "new_post_ids = []\n",
    "for x in sub.head().post_id:\n",
    "    if '\",\"' in str(x):\n",
    "        new_post_ids.append(str(x).split('\",\"')[0])\n",
    "        new_post_ids.append(str(x).split('\",\"')[1])\n",
    "    else:\n",
    "        new_post_ids.append(str(x))"
   ]
  },
  {
   "cell_type": "code",
   "execution_count": 54,
   "metadata": {},
   "outputs": [
    {
     "data": {
      "text/plain": [
       "['10155908892897746',\n",
       " '10155908892167746',\n",
       " '10155908067292746',\n",
       " '10155907289312746',\n",
       " '10155907286322746',\n",
       " '10155906059692746',\n",
       " '10155904912242746']"
      ]
     },
     "execution_count": 54,
     "metadata": {},
     "output_type": "execute_result"
    }
   ],
   "source": [
    "new_post_ids"
   ]
  },
  {
   "cell_type": "code",
   "execution_count": 56,
   "metadata": {},
   "outputs": [],
   "source": [
    "for fl in dfs:\n",
    "    tmp = pd.read_csv(f\"{path}{fl}\")\n",
    "    new_post_ids = []\n",
    "    for x in tmp.post_id:\n",
    "        if '\",\"' in str(x):\n",
    "            new_post_ids.append(str(x).split('\",\"')[0])\n",
    "            new_post_ids.append(str(x).split('\",\"')[1])\n",
    "        else:\n",
    "            new_post_ids.append(str(x))\n",
    "    new = pd.DataFrame(columns=[\"post_id\"])\n",
    "    new[\"post_id\"] = new_post_ids\n",
    "    new.to_csv(f\"../scrapers/facebook/my_scraper/data_clean/{fl}\", index=False)"
   ]
  }
 ],
 "metadata": {
  "kernelspec": {
   "display_name": "Python 3",
   "language": "python",
   "name": "python3"
  },
  "language_info": {
   "codemirror_mode": {
    "name": "ipython",
    "version": 3
   },
   "file_extension": ".py",
   "mimetype": "text/x-python",
   "name": "python",
   "nbconvert_exporter": "python",
   "pygments_lexer": "ipython3",
   "version": "3.7.1"
  }
 },
 "nbformat": 4,
 "nbformat_minor": 2
}
