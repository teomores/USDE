{
 "cells": [
  {
   "cell_type": "code",
   "execution_count": 1,
   "metadata": {},
   "outputs": [
    {
     "data": {
      "text/html": [
       "<div>\n",
       "<style scoped>\n",
       "    .dataframe tbody tr th:only-of-type {\n",
       "        vertical-align: middle;\n",
       "    }\n",
       "\n",
       "    .dataframe tbody tr th {\n",
       "        vertical-align: top;\n",
       "    }\n",
       "\n",
       "    .dataframe thead th {\n",
       "        text-align: right;\n",
       "    }\n",
       "</style>\n",
       "<table border=\"1\" class=\"dataframe\">\n",
       "  <thead>\n",
       "    <tr style=\"text-align: right;\">\n",
       "      <th></th>\n",
       "      <th>match_year</th>\n",
       "      <th>match_month</th>\n",
       "      <th>match_day</th>\n",
       "      <th>home_team</th>\n",
       "      <th>away_team</th>\n",
       "      <th>match_round</th>\n",
       "      <th>league_year</th>\n",
       "      <th>label</th>\n",
       "    </tr>\n",
       "  </thead>\n",
       "  <tbody>\n",
       "    <tr>\n",
       "      <th>0</th>\n",
       "      <td>2009</td>\n",
       "      <td>8</td>\n",
       "      <td>15</td>\n",
       "      <td>Aston Villa</td>\n",
       "      <td>Wigan</td>\n",
       "      <td>1</td>\n",
       "      <td>2009</td>\n",
       "      <td>2</td>\n",
       "    </tr>\n",
       "    <tr>\n",
       "      <th>1</th>\n",
       "      <td>2009</td>\n",
       "      <td>8</td>\n",
       "      <td>15</td>\n",
       "      <td>Blackburn</td>\n",
       "      <td>Manchester City</td>\n",
       "      <td>1</td>\n",
       "      <td>2009</td>\n",
       "      <td>2</td>\n",
       "    </tr>\n",
       "    <tr>\n",
       "      <th>2</th>\n",
       "      <td>2009</td>\n",
       "      <td>8</td>\n",
       "      <td>15</td>\n",
       "      <td>Bolton</td>\n",
       "      <td>Sunderland</td>\n",
       "      <td>1</td>\n",
       "      <td>2009</td>\n",
       "      <td>2</td>\n",
       "    </tr>\n",
       "    <tr>\n",
       "      <th>3</th>\n",
       "      <td>2009</td>\n",
       "      <td>8</td>\n",
       "      <td>15</td>\n",
       "      <td>Chelsea</td>\n",
       "      <td>Hull</td>\n",
       "      <td>1</td>\n",
       "      <td>2009</td>\n",
       "      <td>1</td>\n",
       "    </tr>\n",
       "    <tr>\n",
       "      <th>4</th>\n",
       "      <td>2009</td>\n",
       "      <td>8</td>\n",
       "      <td>15</td>\n",
       "      <td>Everton</td>\n",
       "      <td>Arsenal</td>\n",
       "      <td>1</td>\n",
       "      <td>2009</td>\n",
       "      <td>2</td>\n",
       "    </tr>\n",
       "  </tbody>\n",
       "</table>\n",
       "</div>"
      ],
      "text/plain": [
       "   match_year  match_month  match_day    home_team        away_team  \\\n",
       "0        2009            8         15  Aston Villa            Wigan   \n",
       "1        2009            8         15    Blackburn  Manchester City   \n",
       "2        2009            8         15       Bolton       Sunderland   \n",
       "3        2009            8         15      Chelsea             Hull   \n",
       "4        2009            8         15      Everton          Arsenal   \n",
       "\n",
       "   match_round  league_year  label  \n",
       "0            1         2009      2  \n",
       "1            1         2009      2  \n",
       "2            1         2009      2  \n",
       "3            1         2009      1  \n",
       "4            1         2009      2  "
      ]
     },
     "execution_count": 1,
     "metadata": {},
     "output_type": "execute_result"
    }
   ],
   "source": [
    "import pandas as pd\n",
    "# let's merge all the collected datasets\n",
    "dataset_matches = pd.read_csv('../dataset/premier/lightgbm/lightgbm_base_odds_premier.csv')\n",
    "dataset_matches = dataset_matches.sort_values(by=['match_year','match_month','match_day',\n",
    "#                                                   'match_hour','match_round',\n",
    "                                                  'home_team','away_team']).reset_index(drop=True)\n",
    "dataset_matches = dataset_matches[['match_year','match_month','match_day','home_team','away_team','match_round','league_year','label']]\n",
    "dataset_matches.head()"
   ]
  },
  {
   "cell_type": "code",
   "execution_count": 2,
   "metadata": {},
   "outputs": [
    {
     "data": {
      "text/html": [
       "<div>\n",
       "<style scoped>\n",
       "    .dataframe tbody tr th:only-of-type {\n",
       "        vertical-align: middle;\n",
       "    }\n",
       "\n",
       "    .dataframe tbody tr th {\n",
       "        vertical-align: top;\n",
       "    }\n",
       "\n",
       "    .dataframe thead th {\n",
       "        text-align: right;\n",
       "    }\n",
       "</style>\n",
       "<table border=\"1\" class=\"dataframe\">\n",
       "  <thead>\n",
       "    <tr style=\"text-align: right;\">\n",
       "      <th></th>\n",
       "      <th>match_year</th>\n",
       "      <th>match_month</th>\n",
       "      <th>match_day</th>\n",
       "      <th>home_team</th>\n",
       "      <th>away_team</th>\n",
       "      <th>match_round</th>\n",
       "      <th>league_year</th>\n",
       "      <th>label</th>\n",
       "    </tr>\n",
       "  </thead>\n",
       "  <tbody>\n",
       "    <tr>\n",
       "      <th>3750</th>\n",
       "      <td>2019</td>\n",
       "      <td>4</td>\n",
       "      <td>13</td>\n",
       "      <td>Southampton</td>\n",
       "      <td>Wolves</td>\n",
       "      <td>34</td>\n",
       "      <td>2018</td>\n",
       "      <td>1</td>\n",
       "    </tr>\n",
       "    <tr>\n",
       "      <th>3751</th>\n",
       "      <td>2019</td>\n",
       "      <td>4</td>\n",
       "      <td>13</td>\n",
       "      <td>Tottenham</td>\n",
       "      <td>Huddersfield</td>\n",
       "      <td>34</td>\n",
       "      <td>2018</td>\n",
       "      <td>1</td>\n",
       "    </tr>\n",
       "    <tr>\n",
       "      <th>3752</th>\n",
       "      <td>2019</td>\n",
       "      <td>4</td>\n",
       "      <td>14</td>\n",
       "      <td>Crystal Palace</td>\n",
       "      <td>Manchester City</td>\n",
       "      <td>34</td>\n",
       "      <td>2018</td>\n",
       "      <td>2</td>\n",
       "    </tr>\n",
       "    <tr>\n",
       "      <th>3753</th>\n",
       "      <td>2019</td>\n",
       "      <td>4</td>\n",
       "      <td>14</td>\n",
       "      <td>Liverpool</td>\n",
       "      <td>Chelsea</td>\n",
       "      <td>34</td>\n",
       "      <td>2018</td>\n",
       "      <td>1</td>\n",
       "    </tr>\n",
       "    <tr>\n",
       "      <th>3754</th>\n",
       "      <td>2019</td>\n",
       "      <td>4</td>\n",
       "      <td>15</td>\n",
       "      <td>Watford</td>\n",
       "      <td>Arsenal</td>\n",
       "      <td>34</td>\n",
       "      <td>2018</td>\n",
       "      <td>2</td>\n",
       "    </tr>\n",
       "  </tbody>\n",
       "</table>\n",
       "</div>"
      ],
      "text/plain": [
       "      match_year  match_month  match_day       home_team        away_team  \\\n",
       "3750        2019            4         13     Southampton           Wolves   \n",
       "3751        2019            4         13       Tottenham     Huddersfield   \n",
       "3752        2019            4         14  Crystal Palace  Manchester City   \n",
       "3753        2019            4         14       Liverpool          Chelsea   \n",
       "3754        2019            4         15         Watford          Arsenal   \n",
       "\n",
       "      match_round  league_year  label  \n",
       "3750           34         2018      1  \n",
       "3751           34         2018      1  \n",
       "3752           34         2018      2  \n",
       "3753           34         2018      1  \n",
       "3754           34         2018      2  "
      ]
     },
     "execution_count": 2,
     "metadata": {},
     "output_type": "execute_result"
    }
   ],
   "source": [
    "train = dataset_matches[:-100] \n",
    "validation = dataset_matches[-100:-50] \n",
    "test = dataset_matches[-50:] \n",
    "test.head()"
   ]
  },
  {
   "cell_type": "code",
   "execution_count": 3,
   "metadata": {},
   "outputs": [],
   "source": [
    "# predictions of the best model in STACKING.ipynb (60% accuracy)\n",
    "predictions = [1,1,2,1,1,2,2,2,1,1,1,1,1,2,2,1,1,1,2,1,1,2,0,1,1,1,1,2,1,1,1,2,1,2,1,1,1,1,0,1,2,2,1,1,1,1,1,1,1,2]"
   ]
  },
  {
   "cell_type": "code",
   "execution_count": 6,
   "metadata": {},
   "outputs": [
    {
     "data": {
      "text/plain": [
       "60.0"
      ]
     },
     "execution_count": 6,
     "metadata": {},
     "output_type": "execute_result"
    }
   ],
   "source": [
    "# check accuracy\n",
    "correct = 0\n",
    "for ind,true,predicted in zip(test.index, test.label, predictions):\n",
    "    if true == predicted:\n",
    "        correct+=1\n",
    "correct*100/test.shape[0]"
   ]
  },
  {
   "cell_type": "code",
   "execution_count": 10,
   "metadata": {},
   "outputs": [
    {
     "data": {
      "text/html": [
       "<div>\n",
       "<style scoped>\n",
       "    .dataframe tbody tr th:only-of-type {\n",
       "        vertical-align: middle;\n",
       "    }\n",
       "\n",
       "    .dataframe tbody tr th {\n",
       "        vertical-align: top;\n",
       "    }\n",
       "\n",
       "    .dataframe thead th {\n",
       "        text-align: right;\n",
       "    }\n",
       "</style>\n",
       "<table border=\"1\" class=\"dataframe\">\n",
       "  <thead>\n",
       "    <tr style=\"text-align: right;\">\n",
       "      <th></th>\n",
       "      <th>bet365_1</th>\n",
       "      <th>bet365_X</th>\n",
       "      <th>bet365_2</th>\n",
       "    </tr>\n",
       "  </thead>\n",
       "  <tbody>\n",
       "    <tr>\n",
       "      <th>0</th>\n",
       "      <td>2.70</td>\n",
       "      <td>3.20</td>\n",
       "      <td>2.87</td>\n",
       "    </tr>\n",
       "    <tr>\n",
       "      <th>1</th>\n",
       "      <td>1.20</td>\n",
       "      <td>7.50</td>\n",
       "      <td>17.00</td>\n",
       "    </tr>\n",
       "    <tr>\n",
       "      <th>2</th>\n",
       "      <td>13.00</td>\n",
       "      <td>6.75</td>\n",
       "      <td>1.25</td>\n",
       "    </tr>\n",
       "    <tr>\n",
       "      <th>3</th>\n",
       "      <td>1.72</td>\n",
       "      <td>3.90</td>\n",
       "      <td>5.25</td>\n",
       "    </tr>\n",
       "    <tr>\n",
       "      <th>4</th>\n",
       "      <td>3.70</td>\n",
       "      <td>3.70</td>\n",
       "      <td>2.05</td>\n",
       "    </tr>\n",
       "  </tbody>\n",
       "</table>\n",
       "</div>"
      ],
      "text/plain": [
       "   bet365_1  bet365_X  bet365_2\n",
       "0      2.70      3.20      2.87\n",
       "1      1.20      7.50     17.00\n",
       "2     13.00      6.75      1.25\n",
       "3      1.72      3.90      5.25\n",
       "4      3.70      3.70      2.05"
      ]
     },
     "execution_count": 10,
     "metadata": {},
     "output_type": "execute_result"
    }
   ],
   "source": [
    "#retrieve odds\n",
    "odds_df = pd.read_csv('../dataset/premier/lightgbm/lightgbm_base_odds_premier.csv')\n",
    "test_odds = pd.merge(test, odds_df, how='left')\n",
    "test_odds = test_odds[['bet365_1','bet365_X','bet365_2']]\n",
    "test_odds.head()"
   ]
  },
  {
   "cell_type": "code",
   "execution_count": 30,
   "metadata": {},
   "outputs": [],
   "source": [
    "result=[]\n",
    "for p1,pX,p2 in zip(test_odds['bet365_1'], test_odds['bet365_X'], test_odds['bet365_2']):\n",
    "    if min([p1,pX,p2]) == p1: result.append(1)\n",
    "    elif min([p1,pX,p2]) == pX: result.append(0)\n",
    "    else: result.append(2)\n",
    "test_odds['preds'] = result"
   ]
  },
  {
   "cell_type": "code",
   "execution_count": 20,
   "metadata": {},
   "outputs": [
    {
     "name": "stdout",
     "output_type": "stream",
     "text": [
      "Won 6498.0$ with an investement of 5000$. Overall return 1498.0$\n"
     ]
    }
   ],
   "source": [
    "# bet 100$ on each match, using our best predictions\n",
    "investement = 100\n",
    "betting_return = 0\n",
    "total_investement = 0\n",
    "for pred, odd_1, odd_X, odd_2, label in zip(predictions, test_odds.bet365_1, \n",
    "                                            test_odds.bet365_X, test_odds.bet365_2, test.label):\n",
    "    if pred == label:\n",
    "        if pred == 1:\n",
    "            betting_return += investement*odd_1\n",
    "        elif pred == 2:\n",
    "            betting_return += investement*odd_2\n",
    "        else:\n",
    "            betting_return += investement*odd_X\n",
    "    total_investement += investement\n",
    "print(f\"Won {betting_return}$ with an investement of {total_investement}$. Overall return {betting_return-total_investement}$\")"
   ]
  },
  {
   "cell_type": "code",
   "execution_count": 31,
   "metadata": {},
   "outputs": [
    {
     "name": "stdout",
     "output_type": "stream",
     "text": [
      "Won 3923.0$ with an investement of 5000$. Overall return -1077.0$\n"
     ]
    }
   ],
   "source": [
    "# bet 100$ on each match, using our best predictions\n",
    "investement = 100\n",
    "betting_return = 0\n",
    "total_investement = 0\n",
    "for pred, odd_1, odd_X, odd_2, label in zip(test_odds['preds'], test_odds.bet365_1, \n",
    "                                            test_odds.bet365_X, test_odds.bet365_2, test.label):\n",
    "    if pred == label:\n",
    "        if pred == 1:\n",
    "            betting_return += investement*odd_1\n",
    "        elif pred == 2:\n",
    "            betting_return += investement*odd_2\n",
    "        else:\n",
    "            betting_return += investement*odd_X\n",
    "    total_investement += investement\n",
    "print(f\"Won {betting_return}$ with an investement of {total_investement}$. Overall return {betting_return-total_investement}$\")"
   ]
  }
 ],
 "metadata": {
  "kernelspec": {
   "display_name": "Python 3.8.2 64-bit",
   "language": "python",
   "name": "python38264bitbd9fa4131f8b488b8d49daa9b0b33029"
  },
  "language_info": {
   "codemirror_mode": {
    "name": "ipython",
    "version": 3
   },
   "file_extension": ".py",
   "mimetype": "text/x-python",
   "name": "python",
   "nbconvert_exporter": "python",
   "pygments_lexer": "ipython3",
   "version": "3.8.2"
  }
 },
 "nbformat": 4,
 "nbformat_minor": 4
}
