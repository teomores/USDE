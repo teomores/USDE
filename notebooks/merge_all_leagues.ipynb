{
 "cells": [
  {
   "cell_type": "code",
   "execution_count": 88,
   "metadata": {},
   "outputs": [],
   "source": [
    "import pandas as pd\n",
    "df_premier = pd.read_csv('premier_lgb_ready.csv')\n",
    "df_premier['league'] = 0"
   ]
  },
  {
   "cell_type": "code",
   "execution_count": 89,
   "metadata": {},
   "outputs": [],
   "source": [
    "df_seriea = pd.read_csv('serie_a_lgb_ready.csv')\n",
    "df_seriea['league'] = 1 # poi metti in one hot"
   ]
  },
  {
   "cell_type": "code",
   "execution_count": 90,
   "metadata": {},
   "outputs": [
    {
     "data": {
      "text/plain": [
       "True"
      ]
     },
     "execution_count": 90,
     "metadata": {},
     "output_type": "execute_result"
    }
   ],
   "source": [
    "list(set(df_premier.columns)) == list(set(df_seriea.columns)) "
   ]
  },
  {
   "cell_type": "code",
   "execution_count": 91,
   "metadata": {},
   "outputs": [],
   "source": [
    "tmp = pd.concat([df_premier,df_seriea]).sort_values(by=['league_year','match_year','match_month','match_day','match_round']).reset_index(drop=True)"
   ]
  },
  {
   "cell_type": "code",
   "execution_count": 92,
   "metadata": {},
   "outputs": [
    {
     "data": {
      "text/html": [
       "<div>\n",
       "<style scoped>\n",
       "    .dataframe tbody tr th:only-of-type {\n",
       "        vertical-align: middle;\n",
       "    }\n",
       "\n",
       "    .dataframe tbody tr th {\n",
       "        vertical-align: top;\n",
       "    }\n",
       "\n",
       "    .dataframe thead th {\n",
       "        text-align: right;\n",
       "    }\n",
       "</style>\n",
       "<table border=\"1\" class=\"dataframe\">\n",
       "  <thead>\n",
       "    <tr style=\"text-align: right;\">\n",
       "      <th></th>\n",
       "      <th>10bet_1</th>\n",
       "      <th>10bet_2</th>\n",
       "      <th>10bet_X</th>\n",
       "      <th>10bet_opening_1</th>\n",
       "      <th>10bet_opening_2</th>\n",
       "      <th>10bet_opening_X</th>\n",
       "      <th>188bet_1</th>\n",
       "      <th>188bet_2</th>\n",
       "      <th>188bet_X</th>\n",
       "      <th>188bet_opening_1</th>\n",
       "      <th>...</th>\n",
       "      <th>home_team_points</th>\n",
       "      <th>home_team_goal_difference</th>\n",
       "      <th>home_team_goal_fatti</th>\n",
       "      <th>home_team_goal_subiti</th>\n",
       "      <th>away_team_rank</th>\n",
       "      <th>away_team_points</th>\n",
       "      <th>away_team_goal_difference</th>\n",
       "      <th>away_team_goal_fatti</th>\n",
       "      <th>away_team_goal_subiti</th>\n",
       "      <th>league</th>\n",
       "    </tr>\n",
       "  </thead>\n",
       "  <tbody>\n",
       "    <tr>\n",
       "      <th>0</th>\n",
       "      <td>1.12</td>\n",
       "      <td>20.70</td>\n",
       "      <td>7.96</td>\n",
       "      <td>1.15</td>\n",
       "      <td>21.60</td>\n",
       "      <td>7.63</td>\n",
       "      <td>1.18</td>\n",
       "      <td>26.00</td>\n",
       "      <td>7.50</td>\n",
       "      <td>1.22</td>\n",
       "      <td>...</td>\n",
       "      <td>0</td>\n",
       "      <td>0</td>\n",
       "      <td>0</td>\n",
       "      <td>0</td>\n",
       "      <td>0</td>\n",
       "      <td>0</td>\n",
       "      <td>0</td>\n",
       "      <td>0</td>\n",
       "      <td>0</td>\n",
       "      <td>0</td>\n",
       "    </tr>\n",
       "    <tr>\n",
       "      <th>1</th>\n",
       "      <td>1.73</td>\n",
       "      <td>5.14</td>\n",
       "      <td>3.49</td>\n",
       "      <td>1.66</td>\n",
       "      <td>5.09</td>\n",
       "      <td>3.45</td>\n",
       "      <td>1.77</td>\n",
       "      <td>5.30</td>\n",
       "      <td>3.60</td>\n",
       "      <td>1.81</td>\n",
       "      <td>...</td>\n",
       "      <td>0</td>\n",
       "      <td>0</td>\n",
       "      <td>0</td>\n",
       "      <td>0</td>\n",
       "      <td>0</td>\n",
       "      <td>0</td>\n",
       "      <td>0</td>\n",
       "      <td>0</td>\n",
       "      <td>0</td>\n",
       "      <td>0</td>\n",
       "    </tr>\n",
       "    <tr>\n",
       "      <th>2</th>\n",
       "      <td>3.15</td>\n",
       "      <td>2.31</td>\n",
       "      <td>3.27</td>\n",
       "      <td>3.25</td>\n",
       "      <td>2.25</td>\n",
       "      <td>3.22</td>\n",
       "      <td>3.10</td>\n",
       "      <td>2.36</td>\n",
       "      <td>3.40</td>\n",
       "      <td>3.15</td>\n",
       "      <td>...</td>\n",
       "      <td>0</td>\n",
       "      <td>0</td>\n",
       "      <td>0</td>\n",
       "      <td>0</td>\n",
       "      <td>0</td>\n",
       "      <td>0</td>\n",
       "      <td>0</td>\n",
       "      <td>0</td>\n",
       "      <td>0</td>\n",
       "      <td>0</td>\n",
       "    </tr>\n",
       "    <tr>\n",
       "      <th>3</th>\n",
       "      <td>2.23</td>\n",
       "      <td>3.29</td>\n",
       "      <td>3.26</td>\n",
       "      <td>2.27</td>\n",
       "      <td>3.34</td>\n",
       "      <td>3.22</td>\n",
       "      <td>2.27</td>\n",
       "      <td>3.40</td>\n",
       "      <td>3.35</td>\n",
       "      <td>2.33</td>\n",
       "      <td>...</td>\n",
       "      <td>0</td>\n",
       "      <td>0</td>\n",
       "      <td>0</td>\n",
       "      <td>0</td>\n",
       "      <td>0</td>\n",
       "      <td>0</td>\n",
       "      <td>0</td>\n",
       "      <td>0</td>\n",
       "      <td>0</td>\n",
       "      <td>0</td>\n",
       "    </tr>\n",
       "    <tr>\n",
       "      <th>4</th>\n",
       "      <td>2.87</td>\n",
       "      <td>2.61</td>\n",
       "      <td>3.12</td>\n",
       "      <td>2.96</td>\n",
       "      <td>2.57</td>\n",
       "      <td>3.08</td>\n",
       "      <td>2.90</td>\n",
       "      <td>2.60</td>\n",
       "      <td>3.30</td>\n",
       "      <td>2.95</td>\n",
       "      <td>...</td>\n",
       "      <td>0</td>\n",
       "      <td>0</td>\n",
       "      <td>0</td>\n",
       "      <td>0</td>\n",
       "      <td>0</td>\n",
       "      <td>0</td>\n",
       "      <td>0</td>\n",
       "      <td>0</td>\n",
       "      <td>0</td>\n",
       "      <td>0</td>\n",
       "    </tr>\n",
       "  </tbody>\n",
       "</table>\n",
       "<p>5 rows × 153 columns</p>\n",
       "</div>"
      ],
      "text/plain": [
       "   10bet_1  10bet_2  10bet_X  10bet_opening_1  10bet_opening_2  \\\n",
       "0     1.12    20.70     7.96             1.15            21.60   \n",
       "1     1.73     5.14     3.49             1.66             5.09   \n",
       "2     3.15     2.31     3.27             3.25             2.25   \n",
       "3     2.23     3.29     3.26             2.27             3.34   \n",
       "4     2.87     2.61     3.12             2.96             2.57   \n",
       "\n",
       "   10bet_opening_X  188bet_1  188bet_2  188bet_X  188bet_opening_1  ...  \\\n",
       "0             7.63      1.18     26.00      7.50              1.22  ...   \n",
       "1             3.45      1.77      5.30      3.60              1.81  ...   \n",
       "2             3.22      3.10      2.36      3.40              3.15  ...   \n",
       "3             3.22      2.27      3.40      3.35              2.33  ...   \n",
       "4             3.08      2.90      2.60      3.30              2.95  ...   \n",
       "\n",
       "   home_team_points  home_team_goal_difference  home_team_goal_fatti  \\\n",
       "0                 0                          0                     0   \n",
       "1                 0                          0                     0   \n",
       "2                 0                          0                     0   \n",
       "3                 0                          0                     0   \n",
       "4                 0                          0                     0   \n",
       "\n",
       "   home_team_goal_subiti  away_team_rank  away_team_points  \\\n",
       "0                      0               0                 0   \n",
       "1                      0               0                 0   \n",
       "2                      0               0                 0   \n",
       "3                      0               0                 0   \n",
       "4                      0               0                 0   \n",
       "\n",
       "   away_team_goal_difference  away_team_goal_fatti  away_team_goal_subiti  \\\n",
       "0                          0                     0                      0   \n",
       "1                          0                     0                      0   \n",
       "2                          0                     0                      0   \n",
       "3                          0                     0                      0   \n",
       "4                          0                     0                      0   \n",
       "\n",
       "   league  \n",
       "0       0  \n",
       "1       0  \n",
       "2       0  \n",
       "3       0  \n",
       "4       0  \n",
       "\n",
       "[5 rows x 153 columns]"
      ]
     },
     "execution_count": 92,
     "metadata": {},
     "output_type": "execute_result"
    }
   ],
   "source": [
    "final_df = tmp.drop(['match_date','home_team','away_team','home_goals','away_goals'], axis=1)\n",
    "final_df = final_df.sort_values(by = ['league_year', 'match_round']).reset_index(drop=True)\n",
    "final_df = final_df.fillna(0)\n",
    "final_df.head()"
   ]
  },
  {
   "cell_type": "code",
   "execution_count": 93,
   "metadata": {},
   "outputs": [],
   "source": [
    "import lightgbm as lgb\n",
    "\n",
    "from sklearn.model_selection import train_test_split\n",
    "\n",
    "X = final_df.drop(['label'],axis=1)\n",
    "y = final_df.label\n",
    "\n",
    "X_train, X_test, y_train, y_test = train_test_split(X, y, test_size=0.15,shuffle=False)\n",
    "\n",
    "X_train, X_val, y_train, y_val = train_test_split(X_train, y_train, test_size=0.15, shuffle=False)"
   ]
  },
  {
   "cell_type": "code",
   "execution_count": 94,
   "metadata": {},
   "outputs": [
    {
     "name": "stdout",
     "output_type": "stream",
     "text": [
      "Best score=-57.7193\n",
      "Best parameters:\n",
      "- max_depth=1\n",
      "- learning_rate=0.012563\n",
      "- n_estimators=560\n",
      "- num_leaver=44\n",
      "-  min_child_samples=32\n"
     ]
    }
   ],
   "source": [
    "from skopt.space import Real, Integer\n",
    "from skopt.utils import use_named_args\n",
    "space  = [Integer(1, 15, name='max_depth'),\n",
    "          Real(10**-4, 10**0, \"log-uniform\", name='learning_rate'),\n",
    "          Integer(50, 1300, name='n_estimators'),\n",
    "        Integer(3,50,name='num_leaves'),\n",
    "          Integer(5,50, name=' min_child_samples')\n",
    "]\n",
    "\n",
    "@use_named_args(space)\n",
    "def objective(**params):\n",
    "    model = lgb.LGBMClassifier(**params)\n",
    "    model.fit(X_train, y_train)\n",
    "    predicted_y = model.predict(X_test)\n",
    "    correct = 0\n",
    "    for ind,true,predicted in zip(y_test.index, y_test, predicted_y):\n",
    "        if true == predicted:\n",
    "            correct+=1\n",
    "    return -(correct*100 / y_test.shape[0])\n",
    "\n",
    "from skopt import forest_minimize\n",
    "import numpy as np\n",
    "res_gp = forest_minimize(objective, space, n_calls=10, random_state=42, verbose=False)\n",
    "\n",
    "print(\"Best score=%.4f\" % res_gp.fun)\n",
    "print(\"\"\"Best parameters:\n",
    "- max_depth=%d\n",
    "- learning_rate=%.6f\n",
    "- n_estimators=%d\n",
    "- num_leaver=%d\n",
    "-  min_child_samples=%d\"\"\" \n",
    "      % (res_gp.x[0], res_gp.x[1], \n",
    "                            res_gp.x[2], res_gp.x[3], \n",
    "                            res_gp.x[4]))"
   ]
  },
  {
   "cell_type": "code",
   "execution_count": 95,
   "metadata": {},
   "outputs": [
    {
     "data": {
      "text/plain": [
       "60.47471620227038"
      ]
     },
     "execution_count": 95,
     "metadata": {},
     "output_type": "execute_result"
    }
   ],
   "source": [
    "model = lgb.LGBMClassifier(max_depth=1,learning_rate=0.015265, n_estimators=251, num_leaves=10,min_child_samples=17)\n",
    "model.fit(X_train, y_train)\n",
    "predicted_y = model.predict(X_val)\n",
    "correct = 0\n",
    "for ind,true,predicted in zip(y_val.index, y_val, predicted_y):\n",
    "    if true == predicted:\n",
    "        correct+=1\n",
    "correct*100 / y_val.shape[0]"
   ]
  },
  {
   "cell_type": "code",
   "execution_count": 96,
   "metadata": {},
   "outputs": [
    {
     "data": {
      "text/plain": [
       "array([[0.30915925, 0.4427118 , 0.24812895],\n",
       "       [0.25777776, 0.5353317 , 0.20689055],\n",
       "       [0.28761286, 0.32685745, 0.38552969],\n",
       "       ...,\n",
       "       [0.2990504 , 0.41716869, 0.28378091],\n",
       "       [0.30621931, 0.40319693, 0.29058377],\n",
       "       [0.16313351, 0.22458554, 0.61228095]])"
      ]
     },
     "execution_count": 96,
     "metadata": {},
     "output_type": "execute_result"
    }
   ],
   "source": [
    "model = lgb.LGBMClassifier(max_depth=1,learning_rate=0.015265, n_estimators=251, num_leaves=10,min_child_samples=17)\n",
    "model.fit(X_train, y_train)\n",
    "predicted_prob = model.predict_proba(X_val)\n",
    "predicted_prob"
   ]
  },
  {
   "cell_type": "code",
   "execution_count": 97,
   "metadata": {},
   "outputs": [
    {
     "data": {
      "text/plain": [
       "78.43866171003718"
      ]
     },
     "execution_count": 97,
     "metadata": {},
     "output_type": "execute_result"
    }
   ],
   "source": [
    "correct = 0\n",
    "greater = 0\n",
    "for ind,true,predicted in zip(y_val.index, y_val, predicted_prob):\n",
    "    if max(predicted)>0.6:\n",
    "        greater+=1\n",
    "        if true == predicted.argmax():\n",
    "            #print(f'probabilities: {predicted} : true: {true} max{predicted.argmax()} OK')\n",
    "            correct+=1\n",
    "        else:\n",
    "            #print(f'probabilities: {predicted} : true: {true} max{predicted.argmax()} WRONG')\n",
    "            pass\n",
    "correct*100 / greater"
   ]
  },
  {
   "cell_type": "code",
   "execution_count": 98,
   "metadata": {},
   "outputs": [
    {
     "data": {
      "text/plain": [
       "60.577915376676984"
      ]
     },
     "execution_count": 98,
     "metadata": {},
     "output_type": "execute_result"
    }
   ],
   "source": [
    "# baseline che usa solo le quote\n",
    "result = []\n",
    "for p1,pX,p2 in zip(X_val['10bet_1'], X_val['10bet_X'], X_val['10bet_2']):\n",
    "    if min([p1,pX,p2]) == p1: result.append(1)\n",
    "    elif min([p1,pX,p2]) == pX: result.append(0)\n",
    "    else: result.append(2)\n",
    "\n",
    "correct = 0\n",
    "for ind,true,predicted in zip(y_val.index, y_val, result):\n",
    "    if true == predicted:\n",
    "        correct+=1\n",
    "correct*100 / y_val.shape[0]"
   ]
  },
  {
   "cell_type": "code",
   "execution_count": 99,
   "metadata": {},
   "outputs": [
    {
     "data": {
      "text/plain": [
       "0.0196078431372549"
      ]
     },
     "execution_count": 99,
     "metadata": {},
     "output_type": "execute_result"
    }
   ],
   "source": [
    "list(predicted_y!=result).count(True) / len(predicted_y)"
   ]
  },
  {
   "cell_type": "markdown",
   "metadata": {},
   "source": [
    "# Proviamo ensemble"
   ]
  },
  {
   "cell_type": "code",
   "execution_count": 100,
   "metadata": {},
   "outputs": [
    {
     "data": {
      "text/plain": [
       "['10bet_1',\n",
       " '10bet_2',\n",
       " '10bet_X',\n",
       " '10bet_opening_1',\n",
       " '10bet_opening_2',\n",
       " '10bet_opening_X',\n",
       " '188bet_1',\n",
       " '188bet_2',\n",
       " '188bet_X',\n",
       " '188bet_opening_1',\n",
       " '188bet_opening_2',\n",
       " '188bet_opening_X',\n",
       " '1xbet_1',\n",
       " '1xbet_2',\n",
       " '1xbet_X',\n",
       " '1xbet_opening_1',\n",
       " '1xbet_opening_2',\n",
       " '1xbet_opening_X',\n",
       " '888sport_1',\n",
       " '888sport_2',\n",
       " '888sport_X',\n",
       " '888sport_opening_1',\n",
       " '888sport_opening_2',\n",
       " '888sport_opening_X',\n",
       " 'bet-at-home_1',\n",
       " 'bet-at-home_2',\n",
       " 'bet-at-home_X',\n",
       " 'bet-at-home_opening_1',\n",
       " 'bet-at-home_opening_2',\n",
       " 'bet-at-home_opening_X',\n",
       " 'bet365_1',\n",
       " 'bet365_2',\n",
       " 'bet365_X',\n",
       " 'bet365_opening_1',\n",
       " 'bet365_opening_2',\n",
       " 'bet365_opening_X',\n",
       " 'betclic_1',\n",
       " 'betclic_2',\n",
       " 'betclic_X',\n",
       " 'betclic_opening_1',\n",
       " 'betclic_opening_2',\n",
       " 'betclic_opening_X',\n",
       " 'betfair exchange_1',\n",
       " 'betfair exchange_2',\n",
       " 'betfair exchange_X',\n",
       " 'betfair exchange_opening_1',\n",
       " 'betfair exchange_opening_2',\n",
       " 'betfair exchange_opening_X',\n",
       " 'betfair_1',\n",
       " 'betfair_2',\n",
       " 'betfair_X',\n",
       " 'betfair_opening_1',\n",
       " 'betfair_opening_2',\n",
       " 'betfair_opening_X',\n",
       " 'betsafe_1',\n",
       " 'betsafe_2',\n",
       " 'betsafe_X',\n",
       " 'betsafe_opening_1',\n",
       " 'betsafe_opening_2',\n",
       " 'betsafe_opening_X',\n",
       " 'betsson_1',\n",
       " 'betsson_2',\n",
       " 'betsson_X',\n",
       " 'betsson_opening_1',\n",
       " 'betsson_opening_2',\n",
       " 'betsson_opening_X',\n",
       " 'betvictor_1',\n",
       " 'betvictor_2',\n",
       " 'betvictor_X',\n",
       " 'betvictor_opening_1',\n",
       " 'betvictor_opening_2',\n",
       " 'betvictor_opening_X',\n",
       " 'betway_1',\n",
       " 'betway_2',\n",
       " 'betway_X',\n",
       " 'betway_opening_1',\n",
       " 'betway_opening_2',\n",
       " 'betway_opening_X',\n",
       " 'bwin_1',\n",
       " 'bwin_2',\n",
       " 'bwin_X',\n",
       " 'bwin_opening_1',\n",
       " 'bwin_opening_2',\n",
       " 'bwin_opening_X',\n",
       " 'comeon_1',\n",
       " 'comeon_2',\n",
       " 'comeon_X',\n",
       " 'comeon_opening_1',\n",
       " 'comeon_opening_2',\n",
       " 'comeon_opening_X',\n",
       " 'interwetten_1',\n",
       " 'interwetten_2',\n",
       " 'interwetten_X',\n",
       " 'interwetten_opening_1',\n",
       " 'interwetten_opening_2',\n",
       " 'interwetten_opening_X',\n",
       " 'league_year',\n",
       " 'match_hour',\n",
       " 'match_round',\n",
       " 'paddy power_1',\n",
       " 'paddy power_2',\n",
       " 'paddy power_X',\n",
       " 'paddy power_opening_1',\n",
       " 'paddy power_opening_2',\n",
       " 'paddy power_opening_X',\n",
       " 'pinnacle_1',\n",
       " 'pinnacle_2',\n",
       " 'pinnacle_X',\n",
       " 'pinnacle_opening_1',\n",
       " 'pinnacle_opening_2',\n",
       " 'pinnacle_opening_X',\n",
       " 'sbobet_1',\n",
       " 'sbobet_2',\n",
       " 'sbobet_X',\n",
       " 'sbobet_opening_1',\n",
       " 'sbobet_opening_2',\n",
       " 'sbobet_opening_X',\n",
       " 'unibet_1',\n",
       " 'unibet_2',\n",
       " 'unibet_X',\n",
       " 'unibet_opening_1',\n",
       " 'unibet_opening_2',\n",
       " 'unibet_opening_X',\n",
       " 'william hill_1',\n",
       " 'william hill_2',\n",
       " 'william hill_X',\n",
       " 'william hill_opening_1',\n",
       " 'william hill_opening_2',\n",
       " 'william hill_opening_X',\n",
       " 'youwin_1',\n",
       " 'youwin_2',\n",
       " 'youwin_X',\n",
       " 'youwin_opening_1',\n",
       " 'youwin_opening_2',\n",
       " 'youwin_opening_X',\n",
       " 'label',\n",
       " 'match_day',\n",
       " 'match_month',\n",
       " 'match_year',\n",
       " 'ht_win_pred_transfer',\n",
       " 'draw_pred_transfer',\n",
       " 'at_win_pred_transfer',\n",
       " 'home_team_rank',\n",
       " 'home_team_points',\n",
       " 'home_team_goal_difference',\n",
       " 'home_team_goal_fatti',\n",
       " 'home_team_goal_subiti',\n",
       " 'away_team_rank',\n",
       " 'away_team_points',\n",
       " 'away_team_goal_difference',\n",
       " 'away_team_goal_fatti',\n",
       " 'away_team_goal_subiti',\n",
       " 'league']"
      ]
     },
     "execution_count": 100,
     "metadata": {},
     "output_type": "execute_result"
    }
   ],
   "source": [
    "list(final_df.columns)"
   ]
  },
  {
   "cell_type": "code",
   "execution_count": 101,
   "metadata": {},
   "outputs": [
    {
     "data": {
      "text/plain": [
       "['10bet_1',\n",
       " '10bet_2',\n",
       " '10bet_X',\n",
       " '10bet_opening_1',\n",
       " '10bet_opening_2',\n",
       " '10bet_opening_X',\n",
       " '188bet_1',\n",
       " '188bet_2',\n",
       " '188bet_X',\n",
       " '188bet_opening_1',\n",
       " '188bet_opening_2',\n",
       " '188bet_opening_X',\n",
       " '1xbet_1',\n",
       " '1xbet_2',\n",
       " '1xbet_X',\n",
       " '1xbet_opening_1',\n",
       " '1xbet_opening_2',\n",
       " '1xbet_opening_X',\n",
       " '888sport_1',\n",
       " '888sport_2',\n",
       " '888sport_X',\n",
       " '888sport_opening_1',\n",
       " '888sport_opening_2',\n",
       " '888sport_opening_X',\n",
       " 'bet-at-home_1',\n",
       " 'bet-at-home_2',\n",
       " 'bet-at-home_X',\n",
       " 'bet-at-home_opening_1',\n",
       " 'bet-at-home_opening_2',\n",
       " 'bet-at-home_opening_X',\n",
       " 'bet365_1',\n",
       " 'bet365_2',\n",
       " 'bet365_X',\n",
       " 'bet365_opening_1',\n",
       " 'bet365_opening_2',\n",
       " 'bet365_opening_X',\n",
       " 'betclic_1',\n",
       " 'betclic_2',\n",
       " 'betclic_X',\n",
       " 'betclic_opening_1',\n",
       " 'betclic_opening_2',\n",
       " 'betclic_opening_X',\n",
       " 'betfair exchange_1',\n",
       " 'betfair exchange_2',\n",
       " 'betfair exchange_X',\n",
       " 'betfair exchange_opening_1',\n",
       " 'betfair exchange_opening_2',\n",
       " 'betfair exchange_opening_X',\n",
       " 'betfair_1',\n",
       " 'betfair_2',\n",
       " 'betfair_X',\n",
       " 'betfair_opening_1',\n",
       " 'betfair_opening_2',\n",
       " 'betfair_opening_X',\n",
       " 'betsafe_1',\n",
       " 'betsafe_2',\n",
       " 'betsafe_X',\n",
       " 'betsafe_opening_1',\n",
       " 'betsafe_opening_2',\n",
       " 'betsafe_opening_X',\n",
       " 'betsson_1',\n",
       " 'betsson_2',\n",
       " 'betsson_X',\n",
       " 'betsson_opening_1',\n",
       " 'betsson_opening_2',\n",
       " 'betsson_opening_X',\n",
       " 'betvictor_1',\n",
       " 'betvictor_2',\n",
       " 'betvictor_X',\n",
       " 'betvictor_opening_1',\n",
       " 'betvictor_opening_2',\n",
       " 'betvictor_opening_X',\n",
       " 'betway_1',\n",
       " 'betway_2',\n",
       " 'betway_X',\n",
       " 'betway_opening_1',\n",
       " 'betway_opening_2',\n",
       " 'betway_opening_X',\n",
       " 'bwin_1',\n",
       " 'bwin_2',\n",
       " 'bwin_X',\n",
       " 'bwin_opening_1',\n",
       " 'bwin_opening_2',\n",
       " 'bwin_opening_X',\n",
       " 'comeon_1',\n",
       " 'comeon_2',\n",
       " 'comeon_X',\n",
       " 'comeon_opening_1',\n",
       " 'comeon_opening_2',\n",
       " 'comeon_opening_X',\n",
       " 'interwetten_1',\n",
       " 'interwetten_2',\n",
       " 'interwetten_X',\n",
       " 'interwetten_opening_1',\n",
       " 'interwetten_opening_2',\n",
       " 'interwetten_opening_X',\n",
       " 'paddy power_1',\n",
       " 'paddy power_2',\n",
       " 'paddy power_X',\n",
       " 'paddy power_opening_1',\n",
       " 'paddy power_opening_2',\n",
       " 'paddy power_opening_X',\n",
       " 'pinnacle_1',\n",
       " 'pinnacle_2',\n",
       " 'pinnacle_X',\n",
       " 'pinnacle_opening_1',\n",
       " 'pinnacle_opening_2',\n",
       " 'pinnacle_opening_X',\n",
       " 'sbobet_1',\n",
       " 'sbobet_2',\n",
       " 'sbobet_X',\n",
       " 'sbobet_opening_1',\n",
       " 'sbobet_opening_2',\n",
       " 'sbobet_opening_X',\n",
       " 'unibet_1',\n",
       " 'unibet_2',\n",
       " 'unibet_X',\n",
       " 'unibet_opening_1',\n",
       " 'unibet_opening_2',\n",
       " 'unibet_opening_X',\n",
       " 'william hill_1',\n",
       " 'william hill_2',\n",
       " 'william hill_X',\n",
       " 'william hill_opening_1',\n",
       " 'william hill_opening_2',\n",
       " 'william hill_opening_X',\n",
       " 'youwin_1',\n",
       " 'youwin_2',\n",
       " 'youwin_X',\n",
       " 'youwin_opening_1',\n",
       " 'youwin_opening_2',\n",
       " 'youwin_opening_X',\n",
       " 'label']"
      ]
     },
     "execution_count": 101,
     "metadata": {},
     "output_type": "execute_result"
    }
   ],
   "source": [
    "model_1_col = [x for x in list(final_df.columns) if x.endswith('1') or x.endswith('2') or x.endswith('X')] + ['label']\n",
    "model_1_col"
   ]
  },
  {
   "cell_type": "code",
   "execution_count": 102,
   "metadata": {},
   "outputs": [
    {
     "data": {
      "text/plain": [
       "['league_year',\n",
       " 'match_hour',\n",
       " 'match_round',\n",
       " 'match_day',\n",
       " 'match_month',\n",
       " 'match_year',\n",
       " 'ht_win_pred_transfer',\n",
       " 'draw_pred_transfer',\n",
       " 'at_win_pred_transfer',\n",
       " 'home_team_rank',\n",
       " 'home_team_points',\n",
       " 'home_team_goal_difference',\n",
       " 'home_team_goal_fatti',\n",
       " 'home_team_goal_subiti',\n",
       " 'away_team_rank',\n",
       " 'away_team_points',\n",
       " 'away_team_goal_difference',\n",
       " 'away_team_goal_fatti',\n",
       " 'away_team_goal_subiti',\n",
       " 'league',\n",
       " 'label']"
      ]
     },
     "execution_count": 102,
     "metadata": {},
     "output_type": "execute_result"
    }
   ],
   "source": [
    "model_2_col = [x for x in list(final_df.columns) if x not in model_1_col] + ['label']\n",
    "model_2_col"
   ]
  },
  {
   "cell_type": "code",
   "execution_count": 103,
   "metadata": {},
   "outputs": [],
   "source": [
    "model_1_df = final_df[model_1_col]\n",
    "X_1 = model_1_df.drop(['label'],axis=1)\n",
    "y_1 = model_1_df.label\n",
    "\n",
    "X_train_1, X_test_1, y_train_1, y_test_1 = train_test_split(X_1, y_1, test_size=0.15,shuffle=False)\n",
    "\n",
    "X_train_1, X_val_1, y_train_1, y_val_1 = train_test_split(X_train_1, y_train_1, test_size=0.15, shuffle=False)\n",
    "\n",
    "model_2_df = final_df[model_2_col]\n",
    "X_2 = model_2_df.drop(['label'],axis=1)\n",
    "y_2 = model_2_df.label\n",
    "\n",
    "X_train_2, X_test_2, y_train_2, y_test_2 = train_test_split(X_2, y_2, test_size=0.15,shuffle=False)\n",
    "\n",
    "X_train_2, X_val_2, y_train_2, y_val_2 = train_test_split(X_train_2, y_train_2, test_size=0.15, shuffle=False)"
   ]
  },
  {
   "cell_type": "code",
   "execution_count": 104,
   "metadata": {},
   "outputs": [
    {
     "data": {
      "text/plain": [
       "True"
      ]
     },
     "execution_count": 104,
     "metadata": {},
     "output_type": "execute_result"
    }
   ],
   "source": [
    "#chekc\n",
    "(X_train_1.shape[0] ==  X_train_2.shape[0]) and (X_test_1.shape[0]==X_test_2.shape[0]) and (y_train_1.shape[0]==y_train_2.shape[0]) and (y_test_1.shape[0]==y_test_2.shape[0]) and (y_train_1.shape[0]==y_train_2.shape[0]) and(y_val_1.shape[0]==y_val_2.shape[0])"
   ]
  },
  {
   "cell_type": "markdown",
   "metadata": {},
   "source": [
    "# Estraggo scores per il test"
   ]
  },
  {
   "cell_type": "code",
   "execution_count": 105,
   "metadata": {},
   "outputs": [],
   "source": [
    "from skopt.space import Real, Integer\n",
    "from skopt.utils import use_named_args\n",
    "space  = [Integer(1, 15, name='max_depth'),\n",
    "          Real(10**-4, 10**0, \"log-uniform\", name='learning_rate'),\n",
    "          Integer(50, 1300, name='n_estimators'),\n",
    "        Integer(3,50,name='num_leaves'),\n",
    "          Integer(5,50, name=' min_child_samples')\n",
    "]"
   ]
  },
  {
   "cell_type": "code",
   "execution_count": 110,
   "metadata": {},
   "outputs": [
    {
     "name": "stdout",
     "output_type": "stream",
     "text": [
      "Best score=-58.1579\n",
      "Best parameters:\n",
      "- max_depth=1\n",
      "- learning_rate=0.011169\n",
      "- n_estimators=375\n",
      "- num_leaver=40\n",
      "-  min_child_samples=50\n"
     ]
    }
   ],
   "source": [
    "@use_named_args(space)\n",
    "def objective_1(**params):\n",
    "    model = lgb.LGBMClassifier(**params)\n",
    "    model.fit(X_train_1, y_train_1)\n",
    "    predicted_y = model.predict(X_test_1)\n",
    "    correct = 0\n",
    "    for ind,true,predicted in zip(y_test_1.index, y_test_1, predicted_y):\n",
    "        if true == predicted:\n",
    "            correct+=1\n",
    "    return -(correct*100 / y_test_1.shape[0])\n",
    "\n",
    "from skopt import forest_minimize\n",
    "import numpy as np\n",
    "res_gp = forest_minimize(objective_1, space, n_calls=100, random_state=42, verbose=False)\n",
    "\n",
    "print(\"Best score=%.4f\" % res_gp.fun)\n",
    "print(\"\"\"Best parameters:\n",
    "- max_depth=%d\n",
    "- learning_rate=%.6f\n",
    "- n_estimators=%d\n",
    "- num_leaver=%d\n",
    "-  min_child_samples=%d\"\"\" \n",
    "      % (res_gp.x[0], res_gp.x[1], \n",
    "                            res_gp.x[2], res_gp.x[3], \n",
    "                            res_gp.x[4]))"
   ]
  },
  {
   "cell_type": "code",
   "execution_count": 111,
   "metadata": {},
   "outputs": [
    {
     "data": {
      "text/plain": [
       "58.1578947368421"
      ]
     },
     "execution_count": 111,
     "metadata": {},
     "output_type": "execute_result"
    }
   ],
   "source": [
    "model_1 = lgb.LGBMClassifier(max_depth=1,learning_rate=0.011169, n_estimators=375, num_leaves=40,min_child_samples=50)\n",
    "model_1.fit(X_train_1, y_train_1)\n",
    "predicted_y_1 = model_1.predict(X_test_1)\n",
    "correct = 0\n",
    "for ind,true,predicted in zip(y_test_1.index, y_test_1, predicted_y_1):\n",
    "    if true == predicted:\n",
    "        correct+=1\n",
    "correct*100 / y_test_1.shape[0]"
   ]
  },
  {
   "cell_type": "code",
   "execution_count": 112,
   "metadata": {},
   "outputs": [
    {
     "name": "stdout",
     "output_type": "stream",
     "text": [
      "Best score=-56.4912\n",
      "Best parameters:\n",
      "- max_depth=4\n",
      "- learning_rate=0.001607\n",
      "- n_estimators=1020\n",
      "- num_leaver=42\n",
      "-  min_child_samples=36\n"
     ]
    }
   ],
   "source": [
    "@use_named_args(space)\n",
    "def objective_2(**params):\n",
    "    model = lgb.LGBMClassifier(**params)\n",
    "    model.fit(X_train_2, y_train_2)\n",
    "    predicted_y = model.predict(X_test_2)\n",
    "    correct = 0\n",
    "    for ind,true,predicted in zip(y_test_2.index, y_test_2, predicted_y):\n",
    "        if true == predicted:\n",
    "            correct+=1\n",
    "    return -(correct*100 / y_test_2.shape[0])\n",
    "\n",
    "from skopt import forest_minimize\n",
    "import numpy as np\n",
    "res_gp = forest_minimize(objective_2, space, n_calls=100, random_state=17, verbose=False)\n",
    "\n",
    "print(\"Best score=%.4f\" % res_gp.fun)\n",
    "print(\"\"\"Best parameters:\n",
    "- max_depth=%d\n",
    "- learning_rate=%.6f\n",
    "- n_estimators=%d\n",
    "- num_leaver=%d\n",
    "-  min_child_samples=%d\"\"\" \n",
    "      % (res_gp.x[0], res_gp.x[1], \n",
    "                            res_gp.x[2], res_gp.x[3], \n",
    "                            res_gp.x[4]))"
   ]
  },
  {
   "cell_type": "code",
   "execution_count": 113,
   "metadata": {},
   "outputs": [
    {
     "data": {
      "text/plain": [
       "56.14035087719298"
      ]
     },
     "execution_count": 113,
     "metadata": {},
     "output_type": "execute_result"
    }
   ],
   "source": [
    "model_2 = lgb.LGBMClassifier(max_depth=4,learning_rate=0.001607, n_estimators=1020, num_leaves=42,min_child_samples=36)\n",
    "model_2.fit(X_train_2, y_train_2)\n",
    "predicted_y_2 = model_2.predict(X_test_2)\n",
    "correct = 0\n",
    "for ind,true,predicted in zip(y_test_2.index, y_test_2, predicted_y_2):\n",
    "    if true == predicted:\n",
    "        correct+=1\n",
    "correct*100 / y_test_1.shape[0]"
   ]
  },
  {
   "cell_type": "code",
   "execution_count": 114,
   "metadata": {},
   "outputs": [],
   "source": [
    "predicted_y_1 = model_1.predict(X_test_1,raw_score=True)\n",
    "predicted_y_2 = model_2.predict(X_test_2, raw_score=True)"
   ]
  },
  {
   "cell_type": "code",
   "execution_count": 115,
   "metadata": {},
   "outputs": [],
   "source": [
    "stacked_df = pd.DataFrame(columns=['m1X','m11','m12','m2X','m21','m22'])\n",
    "stacked_df['m1X'] = [x[0] for x in predicted_y_1]\n",
    "stacked_df['m11'] = [x[1] for x in predicted_y_1]\n",
    "stacked_df['m12'] = [x[2] for x in predicted_y_1]\n",
    "stacked_df['m2X'] = [x[0] for x in predicted_y_2]\n",
    "stacked_df['m21'] = [x[1] for x in predicted_y_2]\n",
    "stacked_df['m22'] = [x[2] for x in predicted_y_2]"
   ]
  },
  {
   "cell_type": "code",
   "execution_count": 116,
   "metadata": {},
   "outputs": [
    {
     "data": {
      "text/html": [
       "<div>\n",
       "<style scoped>\n",
       "    .dataframe tbody tr th:only-of-type {\n",
       "        vertical-align: middle;\n",
       "    }\n",
       "\n",
       "    .dataframe tbody tr th {\n",
       "        vertical-align: top;\n",
       "    }\n",
       "\n",
       "    .dataframe thead th {\n",
       "        text-align: right;\n",
       "    }\n",
       "</style>\n",
       "<table border=\"1\" class=\"dataframe\">\n",
       "  <thead>\n",
       "    <tr style=\"text-align: right;\">\n",
       "      <th></th>\n",
       "      <th>m1X</th>\n",
       "      <th>m11</th>\n",
       "      <th>m12</th>\n",
       "      <th>m2X</th>\n",
       "      <th>m21</th>\n",
       "      <th>m22</th>\n",
       "    </tr>\n",
       "  </thead>\n",
       "  <tbody>\n",
       "    <tr>\n",
       "      <th>0</th>\n",
       "      <td>-1.538554</td>\n",
       "      <td>-0.220132</td>\n",
       "      <td>-2.033261</td>\n",
       "      <td>-1.367497</td>\n",
       "      <td>-0.479922</td>\n",
       "      <td>-1.850166</td>\n",
       "    </tr>\n",
       "    <tr>\n",
       "      <th>1</th>\n",
       "      <td>-1.261715</td>\n",
       "      <td>-1.065773</td>\n",
       "      <td>-1.317323</td>\n",
       "      <td>-1.218627</td>\n",
       "      <td>-0.918286</td>\n",
       "      <td>-1.302318</td>\n",
       "    </tr>\n",
       "    <tr>\n",
       "      <th>2</th>\n",
       "      <td>-2.074611</td>\n",
       "      <td>-0.116453</td>\n",
       "      <td>-2.047590</td>\n",
       "      <td>-1.420362</td>\n",
       "      <td>-0.260274</td>\n",
       "      <td>-1.980360</td>\n",
       "    </tr>\n",
       "    <tr>\n",
       "      <th>3</th>\n",
       "      <td>-1.261715</td>\n",
       "      <td>-0.983686</td>\n",
       "      <td>-1.317323</td>\n",
       "      <td>-1.247342</td>\n",
       "      <td>-0.812576</td>\n",
       "      <td>-1.437067</td>\n",
       "    </tr>\n",
       "    <tr>\n",
       "      <th>4</th>\n",
       "      <td>-2.074611</td>\n",
       "      <td>-0.116453</td>\n",
       "      <td>-2.033261</td>\n",
       "      <td>-1.434163</td>\n",
       "      <td>-0.063633</td>\n",
       "      <td>-1.862931</td>\n",
       "    </tr>\n",
       "  </tbody>\n",
       "</table>\n",
       "</div>"
      ],
      "text/plain": [
       "        m1X       m11       m12       m2X       m21       m22\n",
       "0 -1.538554 -0.220132 -2.033261 -1.367497 -0.479922 -1.850166\n",
       "1 -1.261715 -1.065773 -1.317323 -1.218627 -0.918286 -1.302318\n",
       "2 -2.074611 -0.116453 -2.047590 -1.420362 -0.260274 -1.980360\n",
       "3 -1.261715 -0.983686 -1.317323 -1.247342 -0.812576 -1.437067\n",
       "4 -2.074611 -0.116453 -2.033261 -1.434163 -0.063633 -1.862931"
      ]
     },
     "execution_count": 116,
     "metadata": {},
     "output_type": "execute_result"
    }
   ],
   "source": [
    "stacked_df.head()"
   ]
  },
  {
   "cell_type": "markdown",
   "metadata": {},
   "source": [
    "# Estraggo scores per validation"
   ]
  },
  {
   "cell_type": "code",
   "execution_count": 117,
   "metadata": {},
   "outputs": [],
   "source": [
    "model_1 = lgb.LGBMClassifier(max_depth=1,learning_rate=0.011169, n_estimators=375, num_leaves=40,min_child_samples=50)\n",
    "model_1.fit(X_train_1, y_train_1)\n",
    "predicted_y_1 = model_1.predict(X_val_1, raw_score=True)\n",
    "\n",
    "model_2 = lgb.LGBMClassifier(max_depth=4,learning_rate=0.001607, n_estimators=1020, num_leaves=42,min_child_samples=36)\n",
    "model_2.fit(X_train_2, y_train_2)\n",
    "predicted_y_2 = model_2.predict(X_val_2, raw_score=True)"
   ]
  },
  {
   "cell_type": "code",
   "execution_count": 124,
   "metadata": {},
   "outputs": [
    {
     "data": {
      "text/html": [
       "<div>\n",
       "<style scoped>\n",
       "    .dataframe tbody tr th:only-of-type {\n",
       "        vertical-align: middle;\n",
       "    }\n",
       "\n",
       "    .dataframe tbody tr th {\n",
       "        vertical-align: top;\n",
       "    }\n",
       "\n",
       "    .dataframe thead th {\n",
       "        text-align: right;\n",
       "    }\n",
       "</style>\n",
       "<table border=\"1\" class=\"dataframe\">\n",
       "  <thead>\n",
       "    <tr style=\"text-align: right;\">\n",
       "      <th></th>\n",
       "      <th>m1X</th>\n",
       "      <th>m11</th>\n",
       "      <th>m12</th>\n",
       "      <th>m2X</th>\n",
       "      <th>m21</th>\n",
       "      <th>m22</th>\n",
       "    </tr>\n",
       "  </thead>\n",
       "  <tbody>\n",
       "    <tr>\n",
       "      <th>0</th>\n",
       "      <td>-1.261715</td>\n",
       "      <td>-0.897097</td>\n",
       "      <td>-1.484787</td>\n",
       "      <td>-1.262047</td>\n",
       "      <td>-0.859429</td>\n",
       "      <td>-1.234364</td>\n",
       "    </tr>\n",
       "    <tr>\n",
       "      <th>1</th>\n",
       "      <td>-1.261715</td>\n",
       "      <td>-0.519437</td>\n",
       "      <td>-1.484787</td>\n",
       "      <td>-1.277050</td>\n",
       "      <td>-0.686362</td>\n",
       "      <td>-1.489617</td>\n",
       "    </tr>\n",
       "    <tr>\n",
       "      <th>2</th>\n",
       "      <td>-1.261715</td>\n",
       "      <td>-1.144647</td>\n",
       "      <td>-0.970399</td>\n",
       "      <td>-1.252927</td>\n",
       "      <td>-1.092742</td>\n",
       "      <td>-1.109456</td>\n",
       "    </tr>\n",
       "    <tr>\n",
       "      <th>3</th>\n",
       "      <td>-1.261715</td>\n",
       "      <td>-1.249153</td>\n",
       "      <td>-0.811695</td>\n",
       "      <td>-1.252927</td>\n",
       "      <td>-0.920320</td>\n",
       "      <td>-1.266436</td>\n",
       "    </tr>\n",
       "    <tr>\n",
       "      <th>4</th>\n",
       "      <td>-1.918311</td>\n",
       "      <td>-1.363368</td>\n",
       "      <td>-0.391039</td>\n",
       "      <td>-1.312160</td>\n",
       "      <td>-1.406569</td>\n",
       "      <td>-0.430857</td>\n",
       "    </tr>\n",
       "  </tbody>\n",
       "</table>\n",
       "</div>"
      ],
      "text/plain": [
       "        m1X       m11       m12       m2X       m21       m22\n",
       "0 -1.261715 -0.897097 -1.484787 -1.262047 -0.859429 -1.234364\n",
       "1 -1.261715 -0.519437 -1.484787 -1.277050 -0.686362 -1.489617\n",
       "2 -1.261715 -1.144647 -0.970399 -1.252927 -1.092742 -1.109456\n",
       "3 -1.261715 -1.249153 -0.811695 -1.252927 -0.920320 -1.266436\n",
       "4 -1.918311 -1.363368 -0.391039 -1.312160 -1.406569 -0.430857"
      ]
     },
     "execution_count": 124,
     "metadata": {},
     "output_type": "execute_result"
    }
   ],
   "source": [
    "val_stacked_df = pd.DataFrame(columns=['m1X','m11','m12','m2X','m21','m22'])\n",
    "val_stacked_df['m1X'] = [x[0] for x in predicted_y_1]\n",
    "val_stacked_df['m11'] = [x[1] for x in predicted_y_1]\n",
    "val_stacked_df['m12'] = [x[2] for x in predicted_y_1]\n",
    "val_stacked_df['m2X'] = [x[0] for x in predicted_y_2]\n",
    "val_stacked_df['m21'] = [x[1] for x in predicted_y_2]\n",
    "val_stacked_df['m22'] = [x[2] for x in predicted_y_2]\n",
    "val_stacked_df.head()"
   ]
  },
  {
   "cell_type": "markdown",
   "metadata": {},
   "source": [
    "# Ora prediciamo per la validation"
   ]
  },
  {
   "cell_type": "code",
   "execution_count": 136,
   "metadata": {},
   "outputs": [
    {
     "data": {
      "text/plain": [
       "60.68111455108359"
      ]
     },
     "execution_count": 136,
     "metadata": {},
     "output_type": "execute_result"
    }
   ],
   "source": [
    "ensemble = lgb.LGBMClassifier(max_depth=1,learning_rate=0.017, n_estimators=300, num_leaves=50,min_child_samples=30)\n",
    "ensemble.fit(stacked_df, list(y_test))\n",
    "\n",
    "predicted_y = ensemble.predict(val_stacked_df)\n",
    "correct = 0\n",
    "for ind,true,predicted in zip(y_val.index, y_val, predicted_y):\n",
    "    if true == predicted:\n",
    "        correct+=1\n",
    "correct*100 / y_val.shape[0]"
   ]
  }
 ],
 "metadata": {
  "kernelspec": {
   "display_name": "Python 3",
   "language": "python",
   "name": "python3"
  },
  "language_info": {
   "codemirror_mode": {
    "name": "ipython",
    "version": 3
   },
   "file_extension": ".py",
   "mimetype": "text/x-python",
   "name": "python",
   "nbconvert_exporter": "python",
   "pygments_lexer": "ipython3",
   "version": "3.8.2"
  }
 },
 "nbformat": 4,
 "nbformat_minor": 2
}
